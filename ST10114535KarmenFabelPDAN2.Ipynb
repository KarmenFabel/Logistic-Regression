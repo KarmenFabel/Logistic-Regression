{
 "cells": [
  {
   "attachments": {},
   "cell_type": "markdown",
   "id": "71ae76ad",
   "metadata": {},
   "source": [
    "# Data Source:\n",
    "IBM Transactions for Anti Money Laundering (AML)\n",
    "https://www.kaggle.com/datasets/ealtman2019/ibm-transactions-for-anti-money-laundering-aml\n"
   ]
  },
  {
   "attachments": {},
   "cell_type": "markdown",
   "id": "ba8dd5ad",
   "metadata": {},
   "source": [
    "to run this code make sure all of the imports are installed"
   ]
  },
  {
   "cell_type": "code",
   "execution_count": 15,
   "id": "0adc01ca-59b4-42cd-9ed4-fbe9430f85dd",
   "metadata": {},
   "outputs": [],
   "source": [
    "import pandas as pd\n",
    "import numpy as np\n",
    "import matplotlib.pyplot as plt\n",
    "import seaborn as sns\n",
    "from sklearn.preprocessing import LabelEncoder\n",
    "from sklearn.model_selection import train_test_split\n",
    "from sklearn.linear_model import LogisticRegression\n",
    "from sklearn.metrics import classification_report, roc_curve, auc, confusion_matrix\n",
    "from imblearn.over_sampling import BorderlineSMOTE\n",
    "# Import the required libraries\n",
    "from pyspark.sql import SparkSession\n",
    "from pyspark import SparkConf"
   ]
  },
  {
   "cell_type": "code",
   "execution_count": 16,
   "id": "8dd51b1e",
   "metadata": {},
   "outputs": [],
   "source": [
    "\n",
    "conf = SparkConf()\n",
    "\n",
    "# Set the driver and executor memory\n",
    "conf.set(\"spark.driver.memory\", \"4g\")  # Set the driver memory to 4GB\n",
    "conf.set(\"spark.executor.memory\", \"4g\")  # Set the executor memory to 4GB\n",
    "\n",
    "# Create a SparkSession with the configured SparkConf\n",
    "spark = SparkSession.builder.config(conf=conf).getOrCreate()\n",
    "\n",
    "# Load the CSV file into a Spark DataFrame\n",
    "data = spark.read.csv(\"HI-Small_Trans.csv\", header=True, inferSchema=True)"
   ]
  },
  {
   "cell_type": "code",
   "execution_count": 17,
   "id": "932bc662-a000-4faf-b27a-b2d52a0f8510",
   "metadata": {},
   "outputs": [
    {
     "data": {
      "text/plain": [
       "Row(Timestamp='2022/09/01 00:20', From Bank=10, Account2='8000EBD30', To Bank=10, Account4='8000EBD30', Amount Received=3697.34, Receiving Currency='US Dollar', Amount Paid=3697.34, Payment Currency='US Dollar', Payment Format='Reinvestment', Is Laundering=0)"
      ]
     },
     "execution_count": 17,
     "metadata": {},
     "output_type": "execute_result"
    }
   ],
   "source": [
    "data.head()"
   ]
  },
  {
   "attachments": {},
   "cell_type": "markdown",
   "id": "2df04420",
   "metadata": {},
   "source": [
    "## Why this dataset:\n",
    "Logistic regression is well-suited for this dataset as it aligns with the binary classification task of identifying money laundering transactions (1) or non-money laundering transactions (0). The dataset's combination of categorical and numeric features, such as \"Payment Format,\" \"Receiving Currency,\" \"Amount Received,\" and \"Amount Paid,\" is efficiently handled by logistic regression without requiring extensive preprocessing. This model provides interpretable coefficients, aiding in the understanding of variables influencing money laundering probabilities. It's computationally efficient, making it suitable for datasets of varying sizes. Additionally, logistic regression outputs probabilities, allowing you to set custom thresholds for classification. The model can be regularized to enhance generalization and prevent overfitting, crucial for real-world data. In summary, logistic regression is a fitting choice for building a predictive model to detect potential money laundering transactions."
   ]
  },
  {
   "cell_type": "code",
   "execution_count": 18,
   "id": "206cb7a2-0b06-4d22-884f-832e8e703951",
   "metadata": {},
   "outputs": [
    {
     "name": "stdout",
     "output_type": "stream",
     "text": [
      "root\n",
      " |-- Timestamp: string (nullable = true)\n",
      " |-- From Bank: integer (nullable = true)\n",
      " |-- Account2: string (nullable = true)\n",
      " |-- To Bank: integer (nullable = true)\n",
      " |-- Account4: string (nullable = true)\n",
      " |-- Amount Received: double (nullable = true)\n",
      " |-- Receiving Currency: string (nullable = true)\n",
      " |-- Amount Paid: double (nullable = true)\n",
      " |-- Payment Currency: string (nullable = true)\n",
      " |-- Payment Format: string (nullable = true)\n",
      " |-- Is Laundering: integer (nullable = true)\n",
      "\n",
      "Number of rows: 5078345\n"
     ]
    }
   ],
   "source": [
    "#data.info()\n",
    "data.printSchema()\n",
    "row_count = data.count()\n",
    "print(\"Number of rows:\", row_count)\n",
    "\n"
   ]
  },
  {
   "cell_type": "code",
   "execution_count": 19,
   "id": "b46dc37c-fc20-422b-ad96-1c5eee573302",
   "metadata": {},
   "outputs": [
    {
     "name": "stdout",
     "output_type": "stream",
     "text": [
      "+-------------+-------+\n",
      "|Is Laundering|  count|\n",
      "+-------------+-------+\n",
      "|            1|   5177|\n",
      "|            0|5073168|\n",
      "+-------------+-------+\n",
      "\n"
     ]
    }
   ],
   "source": [
    "\n",
    "# Group by the 'Is Laundering' column and count occurrences\n",
    "value_counts = data.groupBy('Is Laundering').count()\n",
    "\n",
    "# Show the result\n",
    "value_counts.show()\n"
   ]
  },
  {
   "cell_type": "code",
   "execution_count": 20,
   "id": "4383e63a-1ea3-4ae3-ac6a-cfbee3e48818",
   "metadata": {},
   "outputs": [],
   "source": [
    "\n",
    "# Drop rows with missing values\n",
    "data = data.dropna()\n"
   ]
  },
  {
   "cell_type": "code",
   "execution_count": 21,
   "id": "ad8537f3-f520-40b1-bbdc-d830fee87c80",
   "metadata": {},
   "outputs": [
    {
     "name": "stdout",
     "output_type": "stream",
     "text": [
      "root\n",
      " |-- Timestamp: string (nullable = true)\n",
      " |-- From Bank: integer (nullable = true)\n",
      " |-- Account2: string (nullable = true)\n",
      " |-- To Bank: integer (nullable = true)\n",
      " |-- Account4: string (nullable = true)\n",
      " |-- Amount Received: double (nullable = true)\n",
      " |-- Receiving Currency: string (nullable = true)\n",
      " |-- Amount Paid: double (nullable = true)\n",
      " |-- Payment Currency: string (nullable = true)\n",
      " |-- Payment Format: string (nullable = true)\n",
      " |-- Is Laundering: integer (nullable = true)\n",
      "\n",
      "Number of rows: 5078345\n"
     ]
    }
   ],
   "source": [
    "#data.info()\n",
    "#data.info()\n",
    "data.printSchema()\n",
    "row_count = data.count()\n",
    "print(\"Number of rows:\", row_count)\n",
    "#data.describe().show()\n"
   ]
  },
  {
   "cell_type": "code",
   "execution_count": 22,
   "id": "7062a015-c0a9-45f2-9292-3ae23fdb83f5",
   "metadata": {},
   "outputs": [
    {
     "name": "stdout",
     "output_type": "stream",
     "text": [
      "+-------------+-------+\n",
      "|Is Laundering|  count|\n",
      "+-------------+-------+\n",
      "|            1|   5177|\n",
      "|            0|5073168|\n",
      "+-------------+-------+\n",
      "\n"
     ]
    }
   ],
   "source": [
    "\n",
    "# Group by the 'Is Laundering' column and count occurrences\n",
    "value_counts = data.groupBy('Is Laundering').count()\n",
    "\n",
    "# Show the result\n",
    "value_counts.show()\n"
   ]
  },
  {
   "attachments": {},
   "cell_type": "markdown",
   "id": "8668c19f",
   "metadata": {},
   "source": [
    "The decision to convert the dataset back to a Pandas DataFrame was made for practicality and ease of use. While Apache Spark is a powerful framework for distributed data processing, it can have a steeper learning curve and requires managing data within a Spark-specific context. By transitioning the dataset back to Pandas, I can take advantage of its simplicity and flexibility. This choice facilitates a more streamlined and intuitive data exploration and analysis process."
   ]
  },
  {
   "cell_type": "code",
   "execution_count": 23,
   "id": "a6468333",
   "metadata": {},
   "outputs": [],
   "source": [
    "# transform data to pandas data\n",
    "data = data.toPandas()\n"
   ]
  },
  {
   "cell_type": "code",
   "execution_count": 24,
   "id": "2cadb7e4-c6b2-43e6-bb3d-79e9d98efe12",
   "metadata": {},
   "outputs": [],
   "source": [
    "# Convert categorical variables into numeric representations using LabelEncoder\n",
    "label_encoders = {}\n",
    "categorical_columns = [\"From Bank\", \"Account2\", \"To Bank\", \"Account4\", \"Receiving Currency\", \"Payment Currency\", \"Payment Format\"]\n",
    "\n",
    "for col in categorical_columns:\n",
    "    le = LabelEncoder()\n",
    "    data[col] = le.fit_transform(data[col])\n",
    "    label_encoders[col] = le\n",
    "\n",
    "# Split the data into train and test sets\n",
    "X = data.drop(columns=['Is Laundering', 'Timestamp'])  # Drop the target variable and Timestamp\n",
    "y = data['Is Laundering']\n",
    "\n"
   ]
  },
  {
   "cell_type": "code",
   "execution_count": 25,
   "id": "eab75923-dffa-4def-a5cd-e26e6e8c25d6",
   "metadata": {},
   "outputs": [
    {
     "name": "stdout",
     "output_type": "stream",
     "text": [
      "Accuracy: 78.18%\n"
     ]
    }
   ],
   "source": [
    "# Split the data into train and test sets\n",
    "X_train, X_test, y_train, y_test = train_test_split(X, y, test_size=0.3, random_state=42)\n",
    "\n",
    "# Addressing the imbalance using BorderlineSMOTE\n",
    "smote = BorderlineSMOTE(sampling_strategy='auto', random_state=42)\n",
    "X_resampled, y_resampled = smote.fit_resample(X_train, y_train)\n",
    "\n",
    "# Initialize and train the logistic regression model\n",
    "clf = LogisticRegression(max_iter=1000)  \n",
    "clf.fit(X_resampled, y_resampled)\n",
    "\n",
    "# Check accuracy on test set\n",
    "accuracy = clf.score(X_test, y_test)\n",
    "print(f\"Accuracy: {accuracy * 100:.2f}%\")\n",
    "\n"
   ]
  },
  {
   "cell_type": "code",
   "execution_count": 26,
   "id": "655ed681",
   "metadata": {},
   "outputs": [
    {
     "name": "stdout",
     "output_type": "stream",
     "text": [
      "              precision    recall  f1-score   support\n",
      "\n",
      "           0       1.00      0.78      0.88   1521902\n",
      "           1       0.00      0.40      0.00      1602\n",
      "\n",
      "    accuracy                           0.78   1523504\n",
      "   macro avg       0.50      0.59      0.44   1523504\n",
      "weighted avg       1.00      0.78      0.88   1523504\n",
      "\n"
     ]
    }
   ],
   "source": [
    "# Predictions\n",
    "y_pred = clf.predict(X_test)\n",
    "\n",
    "# Check metrics\n",
    "print(classification_report(y_test, y_pred))\n",
    "\n"
   ]
  },
  {
   "cell_type": "code",
   "execution_count": 27,
   "id": "90ea9d7b",
   "metadata": {},
   "outputs": [
    {
     "data": {
      "text/plain": [
       "Text(0.5, 23.52222222222222, 'Predicted label')"
      ]
     },
     "execution_count": 27,
     "metadata": {},
     "output_type": "execute_result"
    },
    {
     "data": {
      "image/png": "[encoded data removed]",
      "text/plain": [
       "<Figure size 640x480 with 2 Axes>"
      ]
     },
     "metadata": {},
     "output_type": "display_data"
    }
   ],
   "source": [
    "# Confusion matrix\n",
    "cm = confusion_matrix(y_test, y_pred)\n",
    "sns.heatmap(cm, annot=True, fmt=\"d\")\n",
    "plt.ylabel('Actual label')\n",
    "plt.xlabel('Predicted label')\n",
    "\n"
   ]
  },
  {
   "cell_type": "code",
   "execution_count": 28,
   "id": "18f80645",
   "metadata": {},
   "outputs": [
    {
     "data": {
      "image/png": "[encoded data removed]",
      "text/plain": [
       "<Figure size 640x480 with 1 Axes>"
      ]
     },
     "metadata": {},
     "output_type": "display_data"
    }
   ],
   "source": [
    "# ROC curve\n",
    "y_prob = clf.predict_proba(X_test)[:,1]\n",
    "fpr, tpr, thresholds = roc_curve(y_test, y_prob)\n",
    "roc_auc = auc(fpr, tpr)\n",
    "\n",
    "plt.figure()\n",
    "plt.plot(fpr, tpr, color='darkorange', label='ROC curve (area = %0.2f)' % roc_auc)\n",
    "plt.plot([0, 1], [0, 1], color='navy', linestyle='--')\n",
    "plt.xlabel('False Positive Rate')\n",
    "plt.ylabel('True Positive Rate')\n",
    "plt.title('Receiver Operating Characteristic (ROC) Curve')\n",
    "plt.legend(loc=\"lower right\")\n",
    "plt.show()"
   ]
  }
 ],
 "metadata": {
  "kernelspec": {
   "display_name": "base",
   "language": "python",
   "name": "python3"
  },
  "language_info": {
   "codemirror_mode": {
    "name": "ipython",
    "version": 3
   },
   "file_extension": ".py",
   "mimetype": "text/x-python",
   "name": "python",
   "nbconvert_exporter": "python",
   "pygments_lexer": "ipython3",
   "version": "3.9.13"
  },
  "vscode": {
   "interpreter": {
    "hash": "ad2bdc8ecc057115af97d19610ffacc2b4e99fae6737bb82f5d7fb13d2f2c186"
   }
  }
 },
 "nbformat": 4,
 "nbformat_minor": 5
}
